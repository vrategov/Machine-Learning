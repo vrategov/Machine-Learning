{
 "cells": [
  {
   "cell_type": "markdown",
   "metadata": {},
   "source": [
    "# Table of Contents\n",
    "\n",
    "1. [Multi-class Classification](#multi-class)\n",
    "    1. [Dataset](#dataset)\n",
    "    2. [Visualizing the data](#visualizing)\n",
    "    3. [Vectorizing Logistic Regression](#vectorizing)\n",
    "        1. [Vectorizing the cost function](#vectorizing-cost)\n",
    "        2. [Vectorizing the gradient](#vectorizing-gradient)\n",
    "        3. [Vectorizing regularized logistic regression](#vectorizing-logreg)"
   ]
  },
  {
   "cell_type": "code",
   "execution_count": 1,
   "metadata": {},
   "outputs": [],
   "source": [
    "import numpy as np\n",
    "import pandas as pd\n",
    "import matplotlib.pyplot as plt\n",
    "import matplotlib.gridspec as gridspec\n",
    "%matplotlib inline"
   ]
  },
  {
   "cell_type": "code",
   "execution_count": 2,
   "metadata": {},
   "outputs": [],
   "source": [
    "# Setup the parameters you will use for this part of the exercise\n",
    "input_layer_size  = 400  # 20x20 Input Images of Digits\n",
    "num_labels = 10          # 10 labels, from 1 to 10"
   ]
  },
  {
   "cell_type": "markdown",
   "metadata": {},
   "source": [
    "<div id='multi-class'/>\n",
    "\n",
    "## 1. Multi-class Classification"
   ]
  },
  {
   "cell_type": "markdown",
   "metadata": {},
   "source": [
    "<div id='dataset'/>\n",
    "\n",
    "### 1.1 Dataset"
   ]
  },
  {
   "cell_type": "code",
   "execution_count": 3,
   "metadata": {},
   "outputs": [],
   "source": [
    "# import the data set\n",
    "import scipy.io\n",
    "\n",
    "data_directory = '../../../Documents/Machine-Learning/Week 4/01. Data/'\n",
    "file = 'ex3data1.mat'\n",
    "\n",
    "mat = scipy.io.loadmat(data_directory+file)"
   ]
  },
  {
   "cell_type": "code",
   "execution_count": 4,
   "metadata": {},
   "outputs": [],
   "source": [
    "# convert to Pandas data frame\n",
    "\n",
    "examples = pd.DataFrame(data = mat['X'])\n",
    "target = pd.DataFrame(data = mat['y'], columns = ['digit'])\n",
    "df = pd.merge(examples, target, left_index = True, right_index = True)"
   ]
  },
  {
   "cell_type": "code",
   "execution_count": 5,
   "metadata": {},
   "outputs": [
    {
     "data": {
      "text/html": [
       "<div>\n",
       "<style scoped>\n",
       "    .dataframe tbody tr th:only-of-type {\n",
       "        vertical-align: middle;\n",
       "    }\n",
       "\n",
       "    .dataframe tbody tr th {\n",
       "        vertical-align: top;\n",
       "    }\n",
       "\n",
       "    .dataframe thead th {\n",
       "        text-align: right;\n",
       "    }\n",
       "</style>\n",
       "<table border=\"1\" class=\"dataframe\">\n",
       "  <thead>\n",
       "    <tr style=\"text-align: right;\">\n",
       "      <th></th>\n",
       "      <th>0</th>\n",
       "      <th>1</th>\n",
       "      <th>2</th>\n",
       "      <th>3</th>\n",
       "      <th>4</th>\n",
       "      <th>5</th>\n",
       "      <th>6</th>\n",
       "      <th>7</th>\n",
       "      <th>8</th>\n",
       "      <th>9</th>\n",
       "      <th>...</th>\n",
       "      <th>391</th>\n",
       "      <th>392</th>\n",
       "      <th>393</th>\n",
       "      <th>394</th>\n",
       "      <th>395</th>\n",
       "      <th>396</th>\n",
       "      <th>397</th>\n",
       "      <th>398</th>\n",
       "      <th>399</th>\n",
       "      <th>digit</th>\n",
       "    </tr>\n",
       "  </thead>\n",
       "  <tbody>\n",
       "    <tr>\n",
       "      <th>0</th>\n",
       "      <td>0.0</td>\n",
       "      <td>0.0</td>\n",
       "      <td>0.0</td>\n",
       "      <td>0.0</td>\n",
       "      <td>0.0</td>\n",
       "      <td>0.0</td>\n",
       "      <td>0.0</td>\n",
       "      <td>0.0</td>\n",
       "      <td>0.0</td>\n",
       "      <td>0.0</td>\n",
       "      <td>...</td>\n",
       "      <td>0.0</td>\n",
       "      <td>0.0</td>\n",
       "      <td>0.0</td>\n",
       "      <td>0.0</td>\n",
       "      <td>0.0</td>\n",
       "      <td>0.0</td>\n",
       "      <td>0.0</td>\n",
       "      <td>0.0</td>\n",
       "      <td>0.0</td>\n",
       "      <td>10</td>\n",
       "    </tr>\n",
       "    <tr>\n",
       "      <th>1</th>\n",
       "      <td>0.0</td>\n",
       "      <td>0.0</td>\n",
       "      <td>0.0</td>\n",
       "      <td>0.0</td>\n",
       "      <td>0.0</td>\n",
       "      <td>0.0</td>\n",
       "      <td>0.0</td>\n",
       "      <td>0.0</td>\n",
       "      <td>0.0</td>\n",
       "      <td>0.0</td>\n",
       "      <td>...</td>\n",
       "      <td>0.0</td>\n",
       "      <td>0.0</td>\n",
       "      <td>0.0</td>\n",
       "      <td>0.0</td>\n",
       "      <td>0.0</td>\n",
       "      <td>0.0</td>\n",
       "      <td>0.0</td>\n",
       "      <td>0.0</td>\n",
       "      <td>0.0</td>\n",
       "      <td>10</td>\n",
       "    </tr>\n",
       "    <tr>\n",
       "      <th>2</th>\n",
       "      <td>0.0</td>\n",
       "      <td>0.0</td>\n",
       "      <td>0.0</td>\n",
       "      <td>0.0</td>\n",
       "      <td>0.0</td>\n",
       "      <td>0.0</td>\n",
       "      <td>0.0</td>\n",
       "      <td>0.0</td>\n",
       "      <td>0.0</td>\n",
       "      <td>0.0</td>\n",
       "      <td>...</td>\n",
       "      <td>0.0</td>\n",
       "      <td>0.0</td>\n",
       "      <td>0.0</td>\n",
       "      <td>0.0</td>\n",
       "      <td>0.0</td>\n",
       "      <td>0.0</td>\n",
       "      <td>0.0</td>\n",
       "      <td>0.0</td>\n",
       "      <td>0.0</td>\n",
       "      <td>10</td>\n",
       "    </tr>\n",
       "    <tr>\n",
       "      <th>3</th>\n",
       "      <td>0.0</td>\n",
       "      <td>0.0</td>\n",
       "      <td>0.0</td>\n",
       "      <td>0.0</td>\n",
       "      <td>0.0</td>\n",
       "      <td>0.0</td>\n",
       "      <td>0.0</td>\n",
       "      <td>0.0</td>\n",
       "      <td>0.0</td>\n",
       "      <td>0.0</td>\n",
       "      <td>...</td>\n",
       "      <td>0.0</td>\n",
       "      <td>0.0</td>\n",
       "      <td>0.0</td>\n",
       "      <td>0.0</td>\n",
       "      <td>0.0</td>\n",
       "      <td>0.0</td>\n",
       "      <td>0.0</td>\n",
       "      <td>0.0</td>\n",
       "      <td>0.0</td>\n",
       "      <td>10</td>\n",
       "    </tr>\n",
       "    <tr>\n",
       "      <th>4</th>\n",
       "      <td>0.0</td>\n",
       "      <td>0.0</td>\n",
       "      <td>0.0</td>\n",
       "      <td>0.0</td>\n",
       "      <td>0.0</td>\n",
       "      <td>0.0</td>\n",
       "      <td>0.0</td>\n",
       "      <td>0.0</td>\n",
       "      <td>0.0</td>\n",
       "      <td>0.0</td>\n",
       "      <td>...</td>\n",
       "      <td>0.0</td>\n",
       "      <td>0.0</td>\n",
       "      <td>0.0</td>\n",
       "      <td>0.0</td>\n",
       "      <td>0.0</td>\n",
       "      <td>0.0</td>\n",
       "      <td>0.0</td>\n",
       "      <td>0.0</td>\n",
       "      <td>0.0</td>\n",
       "      <td>10</td>\n",
       "    </tr>\n",
       "  </tbody>\n",
       "</table>\n",
       "<p>5 rows × 401 columns</p>\n",
       "</div>"
      ],
      "text/plain": [
       "     0    1    2    3    4    5    6    7    8    9  ...    391  392  393  \\\n",
       "0  0.0  0.0  0.0  0.0  0.0  0.0  0.0  0.0  0.0  0.0  ...    0.0  0.0  0.0   \n",
       "1  0.0  0.0  0.0  0.0  0.0  0.0  0.0  0.0  0.0  0.0  ...    0.0  0.0  0.0   \n",
       "2  0.0  0.0  0.0  0.0  0.0  0.0  0.0  0.0  0.0  0.0  ...    0.0  0.0  0.0   \n",
       "3  0.0  0.0  0.0  0.0  0.0  0.0  0.0  0.0  0.0  0.0  ...    0.0  0.0  0.0   \n",
       "4  0.0  0.0  0.0  0.0  0.0  0.0  0.0  0.0  0.0  0.0  ...    0.0  0.0  0.0   \n",
       "\n",
       "   394  395  396  397  398  399  digit  \n",
       "0  0.0  0.0  0.0  0.0  0.0  0.0     10  \n",
       "1  0.0  0.0  0.0  0.0  0.0  0.0     10  \n",
       "2  0.0  0.0  0.0  0.0  0.0  0.0     10  \n",
       "3  0.0  0.0  0.0  0.0  0.0  0.0     10  \n",
       "4  0.0  0.0  0.0  0.0  0.0  0.0     10  \n",
       "\n",
       "[5 rows x 401 columns]"
      ]
     },
     "execution_count": 5,
     "metadata": {},
     "output_type": "execute_result"
    }
   ],
   "source": [
    "df.head()"
   ]
  },
  {
   "cell_type": "markdown",
   "metadata": {},
   "source": [
    "<div id='visualizing'/>\n",
    "\n",
    "### 1.2 Visualizing the data"
   ]
  },
  {
   "cell_type": "code",
   "execution_count": 6,
   "metadata": {
    "scrolled": true
   },
   "outputs": [
    {
     "data": {
      "image/png": "[encoded data removed]",
      "text/plain": [
       "<Figure size 360x360 with 100 Axes>"
      ]
     },
     "metadata": {
      "needs_background": "light"
     },
     "output_type": "display_data"
    }
   ],
   "source": [
    "dim = 10\n",
    "\n",
    "m, n = examples.shape\n",
    "\n",
    "# generate random sample from the data set to plot\n",
    "to_plot = examples.loc[np.random.choice(m, size=dim * dim, replace = False)]\n",
    "\n",
    "# visualize the numbers\n",
    "fig = plt.figure(figsize=(5, 5))\n",
    "\n",
    "gs = gridspec.GridSpec(dim, dim)\n",
    "gs.update(bottom=0.01, top=0.99, left=0.01, right=0.99, \n",
    "          hspace=0.05, wspace=0.05)\n",
    "\n",
    "indeces = list(to_plot.index.values)\n",
    "\n",
    "k=0\n",
    "\n",
    "for i in range(dim):\n",
    "    for j in range(dim):\n",
    "        ax = plt.subplot(gs[i, j])\n",
    "        ax.axis('off')\n",
    "        ax.imshow(to_plot.loc[indeces[k]].values.reshape(int(np.sqrt(n)), int(np.sqrt(n))).T,\n",
    "            cmap = plt.get_cmap('Greys'), interpolation = 'nearest')\n",
    "        k += 1"
   ]
  },
  {
   "cell_type": "markdown",
   "metadata": {},
   "source": [
    "<div id='vectorizing'/>\n",
    "\n",
    "### 1.3 Vectorizing Logistic Regression"
   ]
  },
  {
   "cell_type": "markdown",
   "metadata": {},
   "source": [
    "<div id='vectorizing-cost'/>\n",
    "\n",
    "#### 1.3.1 Vectorizing the cost function"
   ]
  },
  {
   "cell_type": "code",
   "execution_count": 7,
   "metadata": {},
   "outputs": [],
   "source": [
    "# define the sigmiod function\n",
    "\n",
    "def sigmoid(z):\n",
    "    g = 1/(1+np.exp(-z))\n",
    "    return(g)\n",
    "\n",
    "# define the cost function\n",
    "\n",
    "def costFunction(theta, x, y):\n",
    "    m = len(y)\n",
    "    z = x @ theta\n",
    "    h = sigmoid(z)\n",
    "    J = 1/m * sum( -1*y.values.transpose()[0]*np.log(h) - ((1-y.values.transpose()[0])*np.log(1-h)))\n",
    "    return(J)"
   ]
  },
  {
   "cell_type": "code",
   "execution_count": 8,
   "metadata": {},
   "outputs": [
    {
     "name": "stdout",
     "output_type": "stream",
     "text": [
      "The test cost is 0.7348193961097442\n",
      "Expected cost is 0.73482\n"
     ]
    }
   ],
   "source": [
    "# perform a test to check if the functions work well\n",
    "\n",
    "theta_t = np.array([-2, -1, 1, 2])\n",
    "X_t = pd.DataFrame(np.c_[ np.ones((5,1)), np.reshape(np.array([range(1,16)]),(5,3), order = 'F')/10 ])\n",
    "y_t = pd.DataFrame(np.array([1,0,1,0,1]) >= 0.5)\n",
    "\n",
    "cost_t = costFunction(theta_t, X_t, y_t)\n",
    "\n",
    "print('The test cost is {}'.format(cost_t))\n",
    "print('Expected cost is 0.73482')"
   ]
  },
  {
   "cell_type": "markdown",
   "metadata": {},
   "source": [
    "<div id='vectorizing-gradient'/>\n",
    "\n",
    "#### 1.3.2 Vectorizing the gradient"
   ]
  },
  {
   "cell_type": "code",
   "execution_count": 9,
   "metadata": {},
   "outputs": [],
   "source": [
    "# define the gradient\n",
    "\n",
    "def gradient(theta, x, y):\n",
    "    m = len(y)\n",
    "    z = x @ theta\n",
    "    h = sigmoid(z)\n",
    "    beta = h-y[0].values\n",
    "    grad = 1/m * np.array(np.transpose(x) @ beta)\n",
    "    return(grad)"
   ]
  },
  {
   "cell_type": "code",
   "execution_count": 10,
   "metadata": {},
   "outputs": [
    {
     "name": "stdout",
     "output_type": "stream",
     "text": [
      "The values of the gradient are: [0.14656137 0.05144159 0.12472227 0.19800296]\n",
      "The expected gradient values are: 0.146561, 0.051442, 0.124722, 0.198003\n"
     ]
    }
   ],
   "source": [
    "# perform a test to check if the function works well\n",
    "\n",
    "gradient_t = gradient(theta_t, X_t, y_t)\n",
    "\n",
    "print('The values of the gradient are: {}'.format(gradient_t))\n",
    "print('The expected gradient values are: 0.146561, 0.051442, 0.124722, 0.198003')"
   ]
  },
  {
   "cell_type": "markdown",
   "metadata": {},
   "source": [
    "<div id='vectorizing-logreg'/>\n",
    "\n",
    "#### 1.3.3 Vectorizing regularized logistic regression"
   ]
  },
  {
   "cell_type": "code",
   "execution_count": 11,
   "metadata": {},
   "outputs": [],
   "source": [
    "def costFunctionReg(theta, x, y, lam):\n",
    "    m = len(y)\n",
    "    z = x @ theta\n",
    "    h = sigmoid(z)\n",
    "    J = 1/m * sum( -1*y.values.transpose()[0]*np.log(h) - ((1-y.values.transpose()[0])*np.log(1-h))) + lam/(2*m)* (theta_t[1:] @ theta_t[1:])\n",
    "    return(J)\n",
    "\n",
    "def gradientReg(theta, x, y, lam):\n",
    "    m = len(y)\n",
    "    z = x @ theta\n",
    "    h = sigmoid(z)\n",
    "    beta = h-y[0].values\n",
    "    grad = 1/m * np.array(np.transpose(x) @ beta) + np.append(0, lam/m * theta[1:])\n",
    "    return(grad)"
   ]
  },
  {
   "cell_type": "code",
   "execution_count": 12,
   "metadata": {},
   "outputs": [
    {
     "name": "stdout",
     "output_type": "stream",
     "text": [
      "The test cost is: 2.534819396109744\n",
      "The expected cost is: 2.534819\n"
     ]
    }
   ],
   "source": [
    "# perform some test to check the implementation\n",
    "\n",
    "theta_t = np.array([-2, -1, 1, 2])\n",
    "X_t = pd.DataFrame(np.c_[ np.ones((5,1)), np.reshape(np.array([range(1,16)]),(5,3), order = 'F')/10 ])\n",
    "y_t = pd.DataFrame(np.array([1,0,1,0,1]) >= 0.5)\n",
    "lambda_t = 3\n",
    "\n",
    "cost_t = costFunctionReg(theta_t, X_t, y_t, lambda_t)\n",
    "\n",
    "print(\"The test cost is: {}\".format(cost_t))\n",
    "print(\"The expected cost is: 2.534819\")"
   ]
  },
  {
   "cell_type": "code",
   "execution_count": 13,
   "metadata": {},
   "outputs": [
    {
     "name": "stdout",
     "output_type": "stream",
     "text": [
      "Gradients: [ 0.14656137 -0.54855841  0.72472227  1.39800296]\n",
      "Expected gradients: 0.146561, -0.548558, 0.724722, 1.398003\n"
     ]
    }
   ],
   "source": [
    "# test the gradient values\n",
    "\n",
    "grad_t = gradientReg(theta_t, X_t, y_t, lambda_t)\n",
    "\n",
    "print(\"Gradients: {}\".format(grad_t))\n",
    "print(\"Expected gradients: 0.146561, -0.548558, 0.724722, 1.398003\")"
   ]
  }
 ],
 "metadata": {
  "kernelspec": {
   "display_name": "Python 3",
   "language": "python",
   "name": "python3"
  },
  "language_info": {
   "codemirror_mode": {
    "name": "ipython",
    "version": 3
   },
   "file_extension": ".py",
   "mimetype": "text/x-python",
   "name": "python",
   "nbconvert_exporter": "python",
   "pygments_lexer": "ipython3",
   "version": "3.6.6"
  }
 },
 "nbformat": 4,
 "nbformat_minor": 2
}
