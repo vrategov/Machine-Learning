{
 "cells": [
  {
   "cell_type": "markdown",
   "metadata": {},
   "source": [
    "# Table of Contents\n",
    "\n",
    "1. [Logistic Regression](#logreg)\n",
    "    1. [Visualizing the data](#plot)\n",
    "    2. [Implementation](#implementation)\n",
    "        1. [Warmup exercise: sigmoid function](#sigmoid)\n",
    "        2. [Cost function and gradient](#gradient)\n",
    "        3. [Learning parameters using optimization](#optimization)\n",
    "2. [Regularized logistic regression](#reglogreg)\n",
    "    1. [Visualizing the data](#plotreg)\n",
    "    2. [Feature mapping](#mapf)\n",
    "    3. [Cost function and gradient](#cost-gradient)\n",
    "        1. [Learning parameters using optimization](#reg-optimization)\n",
    "    4. [Plotting the decision boundary](#boundary)"
   ]
  },
  {
   "cell_type": "code",
   "execution_count": 1,
   "metadata": {},
   "outputs": [],
   "source": [
    "import numpy as np\n",
    "import pandas as pd\n",
    "import matplotlib.pyplot as plt\n",
    "%matplotlib inline"
   ]
  },
  {
   "cell_type": "markdown",
   "metadata": {},
   "source": [
    "<div id='logreg'/>\n",
    "\n",
    "## 1. Logistic Regression"
   ]
  },
  {
   "cell_type": "code",
   "execution_count": 2,
   "metadata": {},
   "outputs": [],
   "source": [
    "# import the data \n",
    "data_directory = '~/Documents/Machine-Learning/Week 3/01. Data/'\n",
    "file = 'ex2data1.txt'\n",
    "df = pd.read_csv(data_directory+file, names = ['exam_1','exam_2', 'admit'])"
   ]
  },
  {
   "cell_type": "code",
   "execution_count": 3,
   "metadata": {},
   "outputs": [
    {
     "data": {
      "text/html": [
       "<div>\n",
       "<style scoped>\n",
       "    .dataframe tbody tr th:only-of-type {\n",
       "        vertical-align: middle;\n",
       "    }\n",
       "\n",
       "    .dataframe tbody tr th {\n",
       "        vertical-align: top;\n",
       "    }\n",
       "\n",
       "    .dataframe thead th {\n",
       "        text-align: right;\n",
       "    }\n",
       "</style>\n",
       "<table border=\"1\" class=\"dataframe\">\n",
       "  <thead>\n",
       "    <tr style=\"text-align: right;\">\n",
       "      <th></th>\n",
       "      <th>exam_1</th>\n",
       "      <th>exam_2</th>\n",
       "      <th>admit</th>\n",
       "    </tr>\n",
       "  </thead>\n",
       "  <tbody>\n",
       "    <tr>\n",
       "      <th>0</th>\n",
       "      <td>34.623660</td>\n",
       "      <td>78.024693</td>\n",
       "      <td>0</td>\n",
       "    </tr>\n",
       "    <tr>\n",
       "      <th>1</th>\n",
       "      <td>30.286711</td>\n",
       "      <td>43.894998</td>\n",
       "      <td>0</td>\n",
       "    </tr>\n",
       "    <tr>\n",
       "      <th>2</th>\n",
       "      <td>35.847409</td>\n",
       "      <td>72.902198</td>\n",
       "      <td>0</td>\n",
       "    </tr>\n",
       "    <tr>\n",
       "      <th>3</th>\n",
       "      <td>60.182599</td>\n",
       "      <td>86.308552</td>\n",
       "      <td>1</td>\n",
       "    </tr>\n",
       "    <tr>\n",
       "      <th>4</th>\n",
       "      <td>79.032736</td>\n",
       "      <td>75.344376</td>\n",
       "      <td>1</td>\n",
       "    </tr>\n",
       "  </tbody>\n",
       "</table>\n",
       "</div>"
      ],
      "text/plain": [
       "      exam_1     exam_2  admit\n",
       "0  34.623660  78.024693      0\n",
       "1  30.286711  43.894998      0\n",
       "2  35.847409  72.902198      0\n",
       "3  60.182599  86.308552      1\n",
       "4  79.032736  75.344376      1"
      ]
     },
     "execution_count": 3,
     "metadata": {},
     "output_type": "execute_result"
    }
   ],
   "source": [
    "df.head()"
   ]
  },
  {
   "cell_type": "code",
   "execution_count": 4,
   "metadata": {
    "scrolled": true
   },
   "outputs": [
    {
     "data": {
      "text/html": [
       "<div>\n",
       "<style scoped>\n",
       "    .dataframe tbody tr th:only-of-type {\n",
       "        vertical-align: middle;\n",
       "    }\n",
       "\n",
       "    .dataframe tbody tr th {\n",
       "        vertical-align: top;\n",
       "    }\n",
       "\n",
       "    .dataframe thead th {\n",
       "        text-align: right;\n",
       "    }\n",
       "</style>\n",
       "<table border=\"1\" class=\"dataframe\">\n",
       "  <thead>\n",
       "    <tr style=\"text-align: right;\">\n",
       "      <th></th>\n",
       "      <th>exam_1</th>\n",
       "      <th>exam_2</th>\n",
       "      <th>admit</th>\n",
       "    </tr>\n",
       "  </thead>\n",
       "  <tbody>\n",
       "    <tr>\n",
       "      <th>count</th>\n",
       "      <td>100.000000</td>\n",
       "      <td>100.000000</td>\n",
       "      <td>100.000000</td>\n",
       "    </tr>\n",
       "    <tr>\n",
       "      <th>mean</th>\n",
       "      <td>65.644274</td>\n",
       "      <td>66.221998</td>\n",
       "      <td>0.600000</td>\n",
       "    </tr>\n",
       "    <tr>\n",
       "      <th>std</th>\n",
       "      <td>19.458222</td>\n",
       "      <td>18.582783</td>\n",
       "      <td>0.492366</td>\n",
       "    </tr>\n",
       "    <tr>\n",
       "      <th>min</th>\n",
       "      <td>30.058822</td>\n",
       "      <td>30.603263</td>\n",
       "      <td>0.000000</td>\n",
       "    </tr>\n",
       "    <tr>\n",
       "      <th>25%</th>\n",
       "      <td>50.919511</td>\n",
       "      <td>48.179205</td>\n",
       "      <td>0.000000</td>\n",
       "    </tr>\n",
       "    <tr>\n",
       "      <th>50%</th>\n",
       "      <td>67.032988</td>\n",
       "      <td>67.682381</td>\n",
       "      <td>1.000000</td>\n",
       "    </tr>\n",
       "    <tr>\n",
       "      <th>75%</th>\n",
       "      <td>80.212529</td>\n",
       "      <td>79.360605</td>\n",
       "      <td>1.000000</td>\n",
       "    </tr>\n",
       "    <tr>\n",
       "      <th>max</th>\n",
       "      <td>99.827858</td>\n",
       "      <td>98.869436</td>\n",
       "      <td>1.000000</td>\n",
       "    </tr>\n",
       "  </tbody>\n",
       "</table>\n",
       "</div>"
      ],
      "text/plain": [
       "           exam_1      exam_2       admit\n",
       "count  100.000000  100.000000  100.000000\n",
       "mean    65.644274   66.221998    0.600000\n",
       "std     19.458222   18.582783    0.492366\n",
       "min     30.058822   30.603263    0.000000\n",
       "25%     50.919511   48.179205    0.000000\n",
       "50%     67.032988   67.682381    1.000000\n",
       "75%     80.212529   79.360605    1.000000\n",
       "max     99.827858   98.869436    1.000000"
      ]
     },
     "execution_count": 4,
     "metadata": {},
     "output_type": "execute_result"
    }
   ],
   "source": [
    "df.describe()"
   ]
  },
  {
   "cell_type": "code",
   "execution_count": 5,
   "metadata": {},
   "outputs": [],
   "source": [
    "# separate the independent variables and the target variable\n",
    "\n",
    "X = df[['exam_1', 'exam_2']]\n",
    "X.insert(0, 'int', 1)\n",
    "Y = df[['admit']]"
   ]
  },
  {
   "cell_type": "markdown",
   "metadata": {},
   "source": [
    "<div id='plot'/>\n",
    "\n",
    "### 1.1 Visualizing the data"
   ]
  },
  {
   "cell_type": "code",
   "execution_count": 6,
   "metadata": {
    "scrolled": true
   },
   "outputs": [
    {
     "data": {
      "image/png": "[encoded data removed]",
      "text/plain": [
       "<Figure size 432x288 with 1 Axes>"
      ]
     },
     "metadata": {
      "needs_background": "light"
     },
     "output_type": "display_data"
    }
   ],
   "source": [
    "colors = ['black', 'orange']\n",
    "\n",
    "plt.figure()\n",
    "\n",
    "y = plt.scatter(df['exam_1'].loc[df['admit'] == 1], df['exam_2'].loc[df['admit'] == 1], marker='+', color=colors[0], s=100, alpha= 0.5)\n",
    "n = plt.scatter(df['exam_1'].loc[df['admit'] == 0], df['exam_2'].loc[df['admit'] == 0], marker='o', color=colors[1], s=100, alpha=0.5)\n",
    "\n",
    "plt.xlabel('Exam 1')\n",
    "plt.ylabel('Exam 2')\n",
    "\n",
    "plt.xlim(20,108)\n",
    "plt.ylim(20,109)\n",
    "\n",
    "plt.legend((y,n), ('admitted','not admitted'), loc='upper right')\n",
    "\n",
    "plt.show()"
   ]
  },
  {
   "cell_type": "markdown",
   "metadata": {},
   "source": [
    "<div id='implementation'/>\n",
    "\n",
    "### 1.2 Implementation"
   ]
  },
  {
   "cell_type": "markdown",
   "metadata": {},
   "source": [
    "<div id='sigmoid'/>\n",
    "\n",
    "#### 1.2.1 Warmup exercise: sigmoid function\n",
    "\n",
    "The logistic regression hypothesis is defined by:\n",
    "\n",
    "$$ h_{\\theta}(x) = g(\\theta^Tx) $$\n",
    "\n",
    "where the function $g$ is the sigmoid function defined as:\n",
    "\n",
    "$$ g(z) = \\frac{1}{1 + e^{-z}} $$\n",
    "\n"
   ]
  },
  {
   "cell_type": "code",
   "execution_count": 7,
   "metadata": {},
   "outputs": [],
   "source": [
    "# define the sigmiod function\n",
    "\n",
    "def sigmoid(z):\n",
    "    g = 1/(1+np.exp(-z))\n",
    "    return(g)"
   ]
  },
  {
   "cell_type": "code",
   "execution_count": 8,
   "metadata": {
    "scrolled": true
   },
   "outputs": [
    {
     "name": "stdout",
     "output_type": "stream",
     "text": [
      "With a value of z=2 (large positive number), the sigmoid function should be close to 1. It is 0.88\n",
      "With a value of z=2, the sigmoid function should be equal to 0.5. It is 0.5\n",
      "With a value of z=-2 (large negative number), the sigmoid function should be close to 0. It is 0.12\n"
     ]
    }
   ],
   "source": [
    "# lets try the sigmoid function\n",
    "print('With a value of z=2 (large positive number), the sigmoid function should be close to 1. It is {}'.format(round(sigmoid(2),2)))\n",
    "print('With a value of z=2, the sigmoid function should be equal to 0.5. It is {}'.format(sigmoid(0)))\n",
    "print('With a value of z=-2 (large negative number), the sigmoid function should be close to 0. It is {}'.format(round(sigmoid(-2),2)))"
   ]
  },
  {
   "cell_type": "markdown",
   "metadata": {},
   "source": [
    "<div id='gradient'/>\n",
    "\n",
    "#### 1.2.2 Cost function and gradient\n",
    "\n",
    "The cost function in logistic regression is:\n",
    "\n",
    "$$ J(\\theta) = \\frac{1}{m}\\sum_{i=1}^{m}\\big[-y^{(i)}log(h_{\\theta}(x^{(i)})) - (1-y^{(i)})log(1-h_{\\theta}(x^{(i)})\\big] $$\n",
    "\n",
    "THe gradient of the cost $J$ is a vector of the same length as $\\theta$ and every element of this vector is defined as:\n",
    "\n",
    "$$ \\frac{\\partial J(\\theta)}{\\partial \\theta_j} = \\frac{1}{m} \\sum_{i=1}^{m}(h_{\\theta}(x^{(i)}) - y^{(i)})x^{(i)} $$"
   ]
  },
  {
   "cell_type": "code",
   "execution_count": 9,
   "metadata": {},
   "outputs": [],
   "source": [
    "# define a function which returns both the cost and the gradient for logistic regression\n",
    "\n",
    "def costFunction(theta, x, y):\n",
    "    m = len(y)\n",
    "    z = np.matmul(x,theta)\n",
    "    h = sigmoid(z)\n",
    "    J = 1/m * sum( -1*y.values.transpose()[0]*np.log(h) - ((1-y.values.transpose()[0])*np.log(1-h)))\n",
    "    return(J)\n",
    "\n",
    "def gradient(theta, x, y):\n",
    "    m = len(y)\n",
    "    z = np.matmul(x,theta)\n",
    "    h = sigmoid(z)\n",
    "    grad = 1/m * np.array(np.transpose(np.transpose(x) * np.transpose(h-y.values.transpose()[0])).sum())\n",
    "    return(grad)"
   ]
  },
  {
   "cell_type": "code",
   "execution_count": 10,
   "metadata": {},
   "outputs": [],
   "source": [
    "# compute with initial values of zero for all theta\n",
    "initial_theta = np.zeros(X.shape[1])\n",
    "\n",
    "cost = costFunction(initial_theta,X,Y)\n",
    "grad = gradient(initial_theta,X,Y)"
   ]
  },
  {
   "cell_type": "code",
   "execution_count": 11,
   "metadata": {},
   "outputs": [
    {
     "name": "stdout",
     "output_type": "stream",
     "text": [
      "Cost at initial theta (zeros): 0.693147180559946\n",
      "Expected cost (approx): 0.693\n"
     ]
    }
   ],
   "source": [
    "print('Cost at initial theta (zeros): {}\\nExpected cost (approx): 0.693'.format(cost))"
   ]
  },
  {
   "cell_type": "code",
   "execution_count": 12,
   "metadata": {},
   "outputs": [
    {
     "name": "stdout",
     "output_type": "stream",
     "text": [
      "Gradient at initial theta (zeros): [ -0.1        -12.00921659 -11.26284221]\n",
      "Expected gradients (approx): -0.1000, -12.0092, -11.2628\n"
     ]
    }
   ],
   "source": [
    "print('Gradient at initial theta (zeros): {}\\nExpected gradients (approx): -0.1000, -12.0092, -11.2628'.format(grad))"
   ]
  },
  {
   "cell_type": "code",
   "execution_count": 13,
   "metadata": {},
   "outputs": [],
   "source": [
    "# compute with initial values of theta different from zero\n",
    "\n",
    "test_theta = np.array([-24,0.2,0.2])\n",
    "test_cost = costFunction(test_theta,X,Y)\n",
    "test_grad = gradient(test_theta,X,Y)"
   ]
  },
  {
   "cell_type": "code",
   "execution_count": 14,
   "metadata": {},
   "outputs": [
    {
     "name": "stdout",
     "output_type": "stream",
     "text": [
      "Cost at test theta: 0.21833019382659785\n",
      "Expected cost (approx): 0.218\n"
     ]
    }
   ],
   "source": [
    "print('Cost at test theta: {}\\nExpected cost (approx): 0.218'.format(test_cost))"
   ]
  },
  {
   "cell_type": "code",
   "execution_count": 15,
   "metadata": {
    "scrolled": true
   },
   "outputs": [
    {
     "name": "stdout",
     "output_type": "stream",
     "text": [
      "Gradient at test theta: [0.04290299 2.56623412 2.64679737]\n",
      "Expected gradients (approx):0.043, 2.566, 2.647\n"
     ]
    }
   ],
   "source": [
    "print('Gradient at test theta: {}\\nExpected gradients (approx):0.043, 2.566, 2.647'.format(test_grad))"
   ]
  },
  {
   "cell_type": "markdown",
   "metadata": {},
   "source": [
    "<div id='optimization'/>\n",
    "\n",
    "#### 1.2.3 Learning parameters using optimization\n"
   ]
  },
  {
   "cell_type": "code",
   "execution_count": 16,
   "metadata": {},
   "outputs": [
    {
     "name": "stdout",
     "output_type": "stream",
     "text": [
      "     fun: 0.20349770158947486\n",
      "     jac: array([9.22161957e-09, 1.05799597e-07, 4.83191247e-07])\n",
      " message: 'Local minimum reached (|pg| ~= 0)'\n",
      "    nfev: 36\n",
      "     nit: 17\n",
      "  status: 0\n",
      " success: True\n",
      "       x: array([-25.16131855,   0.20623159,   0.20147149])\n"
     ]
    }
   ],
   "source": [
    "from scipy.optimize import minimize\n",
    "\n",
    "res = minimize(fun = costFunction, jac = gradient, x0 = initial_theta, args = (X, Y), method = 'TNC')\n",
    "print(res)"
   ]
  },
  {
   "cell_type": "code",
   "execution_count": 17,
   "metadata": {},
   "outputs": [
    {
     "name": "stdout",
     "output_type": "stream",
     "text": [
      "Cost at theta found by optimization: 0.20349770158947486\n",
      "Expected cost (approx): 0.203\n"
     ]
    }
   ],
   "source": [
    "print('Cost at theta found by optimization: {}'.format(res.fun))\n",
    "print('Expected cost (approx): 0.203')"
   ]
  },
  {
   "cell_type": "code",
   "execution_count": 18,
   "metadata": {},
   "outputs": [
    {
     "name": "stdout",
     "output_type": "stream",
     "text": [
      "Theta parameters found by optimization are: [-25.16131855   0.20623159   0.20147149]\n",
      "Expected theta (approx): -25.161, 0.206, 0.201\n"
     ]
    }
   ],
   "source": [
    "print('Theta parameters found by optimization are: {}'.format(res.x))\n",
    "print('Expected theta (approx): -25.161, 0.206, 0.201')"
   ]
  },
  {
   "cell_type": "code",
   "execution_count": 19,
   "metadata": {
    "scrolled": false
   },
   "outputs": [
    {
     "data": {
      "image/png": "[encoded data removed]",
      "text/plain": [
       "<Figure size 432x288 with 1 Axes>"
      ]
     },
     "metadata": {
      "needs_background": "light"
     },
     "output_type": "display_data"
    }
   ],
   "source": [
    "colors = ['black', 'orange']\n",
    "\n",
    "plt.figure()\n",
    "\n",
    "y = plt.scatter(df['exam_1'].loc[df['admit'] == 1], df['exam_2'].loc[df['admit'] == 1], marker='+', color=colors[0], s=100, alpha= 0.5)\n",
    "n = plt.scatter(df['exam_1'].loc[df['admit'] == 0], df['exam_2'].loc[df['admit'] == 0], marker='o', color=colors[1], s=100, alpha=0.5)\n",
    "\n",
    "plot_x = np.array([min(X.iloc[:,1].values)-2, max(X.iloc[:,1].values)+2])\n",
    "plot_y = (-1/res.x[2]) * (res.x[1] *plot_x + res.x[0])\n",
    "plt.plot(plot_x, plot_y)\n",
    "    \n",
    "plt.xlabel('Exam 1')\n",
    "plt.ylabel('Exam 2')\n",
    "\n",
    "plt.xlim(20,108)\n",
    "plt.ylim(20,109)\n",
    "\n",
    "plt.title('Training data with decision boundary')\n",
    "plt.legend((y,n), ('admitted','not admitted'), loc='upper right')\n",
    "\n",
    "plt.show()"
   ]
  },
  {
   "cell_type": "markdown",
   "metadata": {},
   "source": [
    "<div id='reglogreg'/>\n",
    "\n",
    "## 2. Regularized logistic regression"
   ]
  },
  {
   "cell_type": "code",
   "execution_count": 20,
   "metadata": {},
   "outputs": [],
   "source": [
    "# import the data\n",
    "file = 'ex2data2.txt'\n",
    "df = pd.read_csv(data_directory + file, names = ['test1','test2','accept'])"
   ]
  },
  {
   "cell_type": "code",
   "execution_count": 21,
   "metadata": {},
   "outputs": [
    {
     "data": {
      "text/html": [
       "<div>\n",
       "<style scoped>\n",
       "    .dataframe tbody tr th:only-of-type {\n",
       "        vertical-align: middle;\n",
       "    }\n",
       "\n",
       "    .dataframe tbody tr th {\n",
       "        vertical-align: top;\n",
       "    }\n",
       "\n",
       "    .dataframe thead th {\n",
       "        text-align: right;\n",
       "    }\n",
       "</style>\n",
       "<table border=\"1\" class=\"dataframe\">\n",
       "  <thead>\n",
       "    <tr style=\"text-align: right;\">\n",
       "      <th></th>\n",
       "      <th>test1</th>\n",
       "      <th>test2</th>\n",
       "      <th>accept</th>\n",
       "    </tr>\n",
       "  </thead>\n",
       "  <tbody>\n",
       "    <tr>\n",
       "      <th>0</th>\n",
       "      <td>0.051267</td>\n",
       "      <td>0.69956</td>\n",
       "      <td>1</td>\n",
       "    </tr>\n",
       "    <tr>\n",
       "      <th>1</th>\n",
       "      <td>-0.092742</td>\n",
       "      <td>0.68494</td>\n",
       "      <td>1</td>\n",
       "    </tr>\n",
       "    <tr>\n",
       "      <th>2</th>\n",
       "      <td>-0.213710</td>\n",
       "      <td>0.69225</td>\n",
       "      <td>1</td>\n",
       "    </tr>\n",
       "    <tr>\n",
       "      <th>3</th>\n",
       "      <td>-0.375000</td>\n",
       "      <td>0.50219</td>\n",
       "      <td>1</td>\n",
       "    </tr>\n",
       "    <tr>\n",
       "      <th>4</th>\n",
       "      <td>-0.513250</td>\n",
       "      <td>0.46564</td>\n",
       "      <td>1</td>\n",
       "    </tr>\n",
       "  </tbody>\n",
       "</table>\n",
       "</div>"
      ],
      "text/plain": [
       "      test1    test2  accept\n",
       "0  0.051267  0.69956       1\n",
       "1 -0.092742  0.68494       1\n",
       "2 -0.213710  0.69225       1\n",
       "3 -0.375000  0.50219       1\n",
       "4 -0.513250  0.46564       1"
      ]
     },
     "execution_count": 21,
     "metadata": {},
     "output_type": "execute_result"
    }
   ],
   "source": [
    "df.head()"
   ]
  },
  {
   "cell_type": "code",
   "execution_count": 22,
   "metadata": {},
   "outputs": [
    {
     "data": {
      "text/html": [
       "<div>\n",
       "<style scoped>\n",
       "    .dataframe tbody tr th:only-of-type {\n",
       "        vertical-align: middle;\n",
       "    }\n",
       "\n",
       "    .dataframe tbody tr th {\n",
       "        vertical-align: top;\n",
       "    }\n",
       "\n",
       "    .dataframe thead th {\n",
       "        text-align: right;\n",
       "    }\n",
       "</style>\n",
       "<table border=\"1\" class=\"dataframe\">\n",
       "  <thead>\n",
       "    <tr style=\"text-align: right;\">\n",
       "      <th></th>\n",
       "      <th>test1</th>\n",
       "      <th>test2</th>\n",
       "      <th>accept</th>\n",
       "    </tr>\n",
       "  </thead>\n",
       "  <tbody>\n",
       "    <tr>\n",
       "      <th>count</th>\n",
       "      <td>118.000000</td>\n",
       "      <td>118.000000</td>\n",
       "      <td>118.000000</td>\n",
       "    </tr>\n",
       "    <tr>\n",
       "      <th>mean</th>\n",
       "      <td>0.054779</td>\n",
       "      <td>0.183102</td>\n",
       "      <td>0.491525</td>\n",
       "    </tr>\n",
       "    <tr>\n",
       "      <th>std</th>\n",
       "      <td>0.496654</td>\n",
       "      <td>0.519743</td>\n",
       "      <td>0.502060</td>\n",
       "    </tr>\n",
       "    <tr>\n",
       "      <th>min</th>\n",
       "      <td>-0.830070</td>\n",
       "      <td>-0.769740</td>\n",
       "      <td>0.000000</td>\n",
       "    </tr>\n",
       "    <tr>\n",
       "      <th>25%</th>\n",
       "      <td>-0.372120</td>\n",
       "      <td>-0.254385</td>\n",
       "      <td>0.000000</td>\n",
       "    </tr>\n",
       "    <tr>\n",
       "      <th>50%</th>\n",
       "      <td>-0.006336</td>\n",
       "      <td>0.213455</td>\n",
       "      <td>0.000000</td>\n",
       "    </tr>\n",
       "    <tr>\n",
       "      <th>75%</th>\n",
       "      <td>0.478970</td>\n",
       "      <td>0.646562</td>\n",
       "      <td>1.000000</td>\n",
       "    </tr>\n",
       "    <tr>\n",
       "      <th>max</th>\n",
       "      <td>1.070900</td>\n",
       "      <td>1.108900</td>\n",
       "      <td>1.000000</td>\n",
       "    </tr>\n",
       "  </tbody>\n",
       "</table>\n",
       "</div>"
      ],
      "text/plain": [
       "            test1       test2      accept\n",
       "count  118.000000  118.000000  118.000000\n",
       "mean     0.054779    0.183102    0.491525\n",
       "std      0.496654    0.519743    0.502060\n",
       "min     -0.830070   -0.769740    0.000000\n",
       "25%     -0.372120   -0.254385    0.000000\n",
       "50%     -0.006336    0.213455    0.000000\n",
       "75%      0.478970    0.646562    1.000000\n",
       "max      1.070900    1.108900    1.000000"
      ]
     },
     "execution_count": 22,
     "metadata": {},
     "output_type": "execute_result"
    }
   ],
   "source": [
    "df.describe()"
   ]
  },
  {
   "cell_type": "code",
   "execution_count": 23,
   "metadata": {},
   "outputs": [],
   "source": [
    "X = df[['test1', 'test2']]\n",
    "\n",
    "Y = df[['accept']]"
   ]
  },
  {
   "cell_type": "markdown",
   "metadata": {},
   "source": [
    "<div id='plotreg'/>\n",
    "\n",
    "### 2.1 Visualizing the data"
   ]
  },
  {
   "cell_type": "code",
   "execution_count": 24,
   "metadata": {
    "scrolled": true
   },
   "outputs": [
    {
     "data": {
      "image/png": "[encoded data removed]",
      "text/plain": [
       "<Figure size 432x288 with 1 Axes>"
      ]
     },
     "metadata": {
      "needs_background": "light"
     },
     "output_type": "display_data"
    }
   ],
   "source": [
    "colors = ['black', 'orange']\n",
    "\n",
    "plt.figure()\n",
    "\n",
    "y = plt.scatter(df['test1'].loc[df['accept'] == 1], df['test2'].loc[df['accept'] == 1], marker='+', color=colors[0], s=100, alpha= 0.5)\n",
    "n = plt.scatter(df['test1'].loc[df['accept'] == 0], df['test2'].loc[df['accept'] == 0], marker='o', color=colors[1], s=100, alpha=0.5)\n",
    "\n",
    "plt.xlabel('Test 1')\n",
    "plt.ylabel('Test 2')\n",
    "\n",
    "plt.xlim(-1,1.5)\n",
    "plt.ylim(-1,1.5)\n",
    "\n",
    "plt.title('Plot of training data')\n",
    "plt.legend((y,n), ('accepted','rejected'), loc='upper right')\n",
    "\n",
    "plt.show()"
   ]
  },
  {
   "cell_type": "markdown",
   "metadata": {},
   "source": [
    "<div id='mapf'/>\n",
    "\n",
    "### 2.2 Feature mapping"
   ]
  },
  {
   "cell_type": "code",
   "execution_count": 25,
   "metadata": {},
   "outputs": [],
   "source": [
    "def mapFeature(x1, x2):\n",
    "    degree = 6\n",
    "    out = np.ones((len(x1), sum(range(degree + 2))))\n",
    "    col = 0\n",
    "    for i in range(degree+1):\n",
    "        for j in range(i+1):\n",
    "            out[:,col] = np.power(x1,i-j) * np.power(x2,j)\n",
    "            col += 1\n",
    "    return(out)"
   ]
  },
  {
   "cell_type": "code",
   "execution_count": 26,
   "metadata": {},
   "outputs": [],
   "source": [
    "# perform the feature mapping\n",
    "X = mapFeature(X.values[:,0], X.values[:,1])\n",
    "\n",
    "# create a vector of 0 for initial values of theta\n",
    "initial_theta = np.zeros(X.shape[1])\n",
    "\n",
    "# set the regularization parameter lambda to 1\n",
    "lam = 1"
   ]
  },
  {
   "cell_type": "markdown",
   "metadata": {},
   "source": [
    "<div id='cost-gradient'/>\n",
    "\n",
    "### 2.3 Cost function and gradient\n",
    "\n",
    "The regularized cost function is:\n",
    "\n",
    "$$ J(\\theta) = \\frac{1}{m}\\sum_{i=1}^{m}\\big[-y^{(i)}log(h_{\\theta}(x^{(i)})) - (1-y^{(i)})log(1-h_{\\theta}(x^{(i)})\\big] + \\frac{\\lambda}{2m}\\sum_{j=1}^{n}\\theta_j^2$$\n",
    "\n",
    "And the gradient of the cost function $J(\\theta_j)$ for $j=0$ and $j \\ge 0$ is respectively:\n",
    "\n",
    "$$ \\frac{\\partial J(\\theta)}{\\partial \\theta_0} = \\frac{1}{m} \\sum_{i=1}^{m}(h_{\\theta}(x^{(i)}) - y^{(i)})x^{(i)} $$\n",
    "\n",
    "$$ \\frac{\\partial J(\\theta)}{\\partial \\theta_j} = \\bigg(\\frac{1}{m} \\sum_{i=1}^{m}(h_{\\theta}(x^{(i)}) - y^{(i)})x^{(i)}\\bigg) + \\frac{\\lambda}{m}\\theta_j $$\n"
   ]
  },
  {
   "cell_type": "code",
   "execution_count": 27,
   "metadata": {},
   "outputs": [],
   "source": [
    "def costFunctionReg(theta, x, y, lam):\n",
    "    m = len(y)\n",
    "    z = np.matmul(x,theta)\n",
    "    h = sigmoid(z)\n",
    "    J = 1/m * sum( -1*y.values.transpose()[0]*np.log(h) - ((1-y.values.transpose()[0])*np.log(1-h))) + lam/(2*m)*sum(np.power(theta,2))\n",
    "    return(J)\n",
    "\n",
    "def gradientReg(theta, x, y, lam):\n",
    "    m = len(y)\n",
    "    z = np.matmul(x,theta)\n",
    "    h = sigmoid(z)\n",
    "    grad = np.zeros(theta.shape[0])\n",
    "    for i in range(len(theta)):\n",
    "        if i == 0:\n",
    "            grad[i] = 1/m * np.array(np.transpose(np.transpose(x[0:,i]) * np.transpose(h-y.values.transpose()[0])).sum())\n",
    "        else:    \n",
    "            grad[i] = (1/m * np.array(np.transpose(np.transpose(x[0:,i]) * np.transpose(h-y.values.transpose()[0])).sum())) + (lam/m)*theta[i]\n",
    "    return(grad)"
   ]
  },
  {
   "cell_type": "code",
   "execution_count": 28,
   "metadata": {},
   "outputs": [
    {
     "name": "stdout",
     "output_type": "stream",
     "text": [
      "Cost at initial theta (zeros): 0.6931471805599461\n",
      "Expected cost (approx): 0.693\n"
     ]
    }
   ],
   "source": [
    "reg_cost = costFunctionReg(initial_theta, X, Y, lam)\n",
    "print('Cost at initial theta (zeros): {}'.format(reg_cost))\n",
    "print('Expected cost (approx): 0.693')"
   ]
  },
  {
   "cell_type": "code",
   "execution_count": 29,
   "metadata": {},
   "outputs": [
    {
     "name": "stdout",
     "output_type": "stream",
     "text": [
      "Gradient at test theta - first five values only: [0.00847458 0.01878809 0.00007777 0.05034464 0.01150133]\n",
      "Expected gradients (approx) - first five values only: 0.0085, 0.0188, 0.0001, 0.0503, 0.0115\n"
     ]
    }
   ],
   "source": [
    "reg_gradient = gradientReg(initial_theta, X, Y, lam)\n",
    "\n",
    "np.set_printoptions(suppress=True) #prevent numpy exponential )\n",
    "print('Gradient at test theta - first five values only: {}'.format(reg_gradient[0:5]))\n",
    "print('Expected gradients (approx) - first five values only: 0.0085, 0.0188, 0.0001, 0.0503, 0.0115')"
   ]
  },
  {
   "cell_type": "code",
   "execution_count": 30,
   "metadata": {},
   "outputs": [],
   "source": [
    "# perform additional tests\n",
    "\n",
    "test_theta = np.ones(X.shape[1])\n",
    "lam = 10\n",
    "test_cost = costFunctionReg(test_theta, X, Y, lam = 10)\n",
    "test_gradient = gradientReg(test_theta, X, Y, lam = 10)"
   ]
  },
  {
   "cell_type": "code",
   "execution_count": 31,
   "metadata": {},
   "outputs": [
    {
     "name": "stdout",
     "output_type": "stream",
     "text": [
      "Cost at test theta (with lambda = 10): 3.2068822129709424\n",
      "Expected cost (approx): 3.16\n",
      "Gradient at test theta - first five values only: [0.34604507 0.16135192 0.19479576 0.22686278 0.09218568]\n",
      "Expected gradients (approx) - first five values only: 0.3460, 0.1614, 0.1948, 0.2269, 0.0922\n"
     ]
    }
   ],
   "source": [
    "print('Cost at test theta (with lambda = 10): {}'.format(test_cost))\n",
    "print('Expected cost (approx): 3.16')\n",
    "\n",
    "print('Gradient at test theta - first five values only: {}'.format(test_gradient[0:5]))\n",
    "print('Expected gradients (approx) - first five values only: 0.3460, 0.1614, 0.1948, 0.2269, 0.0922')"
   ]
  },
  {
   "cell_type": "markdown",
   "metadata": {},
   "source": [
    "<div id='reg-optimization'/>\n",
    "\n",
    "#### 2.3.1 Learning parameters using optimization"
   ]
  },
  {
   "cell_type": "code",
   "execution_count": 32,
   "metadata": {},
   "outputs": [],
   "source": [
    "def optimization(fun, jac, x0, lam, method = 'TNC'):\n",
    "    res = minimize(fun = fun, jac = jac, x0 = x0, args = (X, Y, lam), method = 'TNC')\n",
    "    return(res)"
   ]
  },
  {
   "cell_type": "code",
   "execution_count": 33,
   "metadata": {},
   "outputs": [
    {
     "name": "stdout",
     "output_type": "stream",
     "text": [
      "     fun: 0.5357749502031236\n",
      "     jac: array([ 0.00135344,  0.00053155,  0.0020639 ,  0.00038798,  0.00080444,\n",
      "        0.0018786 ,  0.00024891,  0.00043408,  0.00019309,  0.00117386,\n",
      "        0.00013916,  0.00002709,  0.0001858 ,  0.00036803,  0.00100979,\n",
      "        0.00027566,  0.00013406, -0.00009447,  0.00020905,  0.00024607,\n",
      "        0.00068942,  0.00018231, -0.0000201 ,  0.00002317, -0.00002461,\n",
      "        0.000114  ,  0.00026951,  0.00064187])\n",
      " message: 'Converged (|f_n-f_(n-1)| ~= 0)'\n",
      "    nfev: 54\n",
      "     nit: 3\n",
      "  status: 1\n",
      " success: True\n",
      "       x: array([ 1.25441469,  0.6227677 ,  1.1924277 , -2.00505517, -0.87290715,\n",
      "       -1.36184282,  0.12573829, -0.35536848, -0.35603639, -0.17096347,\n",
      "       -1.45784642, -0.0668334 , -0.61498637, -0.25080286, -1.18096035,\n",
      "       -0.22566845, -0.20562893, -0.06382342, -0.27187032, -0.27658998,\n",
      "       -0.46836101, -1.03247398,  0.0162758 , -0.29695283,  0.00581069,\n",
      "       -0.32631645, -0.12073386, -0.93023104])\n"
     ]
    }
   ],
   "source": [
    "res = optimization(costFunctionReg, gradientReg, initial_theta, 1)\n",
    "print(res)"
   ]
  },
  {
   "cell_type": "markdown",
   "metadata": {},
   "source": [
    "<div id='boundary'/>\n",
    "\n",
    "### 2.4 Plotting the decision boundary"
   ]
  },
  {
   "cell_type": "code",
   "execution_count": 34,
   "metadata": {},
   "outputs": [],
   "source": [
    "def plotDecisionBoundary(df, x1, x2, target, fun, jac, x0, lam, method = 'TNC'):\n",
    "    \n",
    "    res = optimization(fun, jac, x0, lam)\n",
    "\n",
    "    u = np.linspace(-1, 1.5, 50)\n",
    "    v = np.linspace(-1, 1.5, 50)\n",
    "\n",
    "    z = np.zeros(( len(u), len(v) ))\n",
    "\n",
    "    for i in range(len(u)):\n",
    "        for j in range(len(v)):\n",
    "            z[i,j] = np.dot(mapFeature(np.array([u[i]]), np.array([v[j]])),res.x)\n",
    "\n",
    "    z = np.transpose(z) # important to transpose z before calling contour\n",
    "    \n",
    "    colors = ['black', 'orange']\n",
    "\n",
    "    plt.figure()\n",
    "\n",
    "    y = plt.scatter(df[x1].loc[df[target] == 1], df[x2].loc[df[target] == 1], marker='+', color=colors[0], s=100, alpha=0.5)\n",
    "    n = plt.scatter(df[x1].loc[df[target] == 0], df[x2].loc[df[target] == 0], marker='o', color=colors[1], s=100, alpha=0.5)\n",
    "    bound = plt.contour(u, v, z, levels=[0])\n",
    "\n",
    "    plt.xlabel(x1)\n",
    "    plt.ylabel(x2)\n",
    "\n",
    "    plt.xlim(-1,1.5)\n",
    "    plt.ylim(-1,1.5)\n",
    "\n",
    "    plt.title(\"Decision boundary\")\n",
    "    plt.legend((y,n), ('accepted','rejected'), loc='upper right')\n",
    "\n",
    "    plt.show()"
   ]
  },
  {
   "cell_type": "code",
   "execution_count": 35,
   "metadata": {},
   "outputs": [
    {
     "data": {
      "image/png": "[encoded data removed]",
      "text/plain": [
       "<Figure size 432x288 with 1 Axes>"
      ]
     },
     "metadata": {
      "needs_background": "light"
     },
     "output_type": "display_data"
    }
   ],
   "source": [
    "# decision boundary with lambda = 1\n",
    "plotDecisionBoundary(df,'test1', 'test2', 'accept', costFunctionReg, gradientReg, initial_theta, 1)"
   ]
  },
  {
   "cell_type": "code",
   "execution_count": 36,
   "metadata": {},
   "outputs": [
    {
     "data": {
      "image/png": "[encoded data removed]",
      "text/plain": [
       "<Figure size 432x288 with 1 Axes>"
      ]
     },
     "metadata": {
      "needs_background": "light"
     },
     "output_type": "display_data"
    }
   ],
   "source": [
    "# decision boundary with lambda = 0 (overfitting)\n",
    "plotDecisionBoundary(df,'test1', 'test2', 'accept', costFunctionReg, gradientReg, initial_theta, 0)"
   ]
  },
  {
   "cell_type": "code",
   "execution_count": 37,
   "metadata": {},
   "outputs": [
    {
     "data": {
      "image/png": "[encoded data removed]",
      "text/plain": [
       "<Figure size 432x288 with 1 Axes>"
      ]
     },
     "metadata": {
      "needs_background": "light"
     },
     "output_type": "display_data"
    }
   ],
   "source": [
    "# decision boundary with lambda = 100 (underfitting)\n",
    "plotDecisionBoundary(df,'test1', 'test2', 'accept', costFunctionReg, gradientReg, initial_theta, 100)"
   ]
  }
 ],
 "metadata": {
  "kernelspec": {
   "display_name": "Python 3",
   "language": "python",
   "name": "python3"
  },
  "language_info": {
   "codemirror_mode": {
    "name": "ipython",
    "version": 3
   },
   "file_extension": ".py",
   "mimetype": "text/x-python",
   "name": "python",
   "nbconvert_exporter": "python",
   "pygments_lexer": "ipython3",
   "version": "3.6.6"
  }
 },
 "nbformat": 4,
 "nbformat_minor": 2
}
